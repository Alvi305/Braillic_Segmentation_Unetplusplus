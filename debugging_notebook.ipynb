{
 "cells": [
  {
   "cell_type": "code",
   "execution_count": 1,
   "metadata": {},
   "outputs": [],
   "source": [
    "import os\n",
    "from glob import glob\n",
    "\n",
    "import cv2\n",
    "import torch\n",
    "import torch.backends.cudnn as cudnn\n",
    "import yaml\n",
    "from albumentations.augmentations import transforms\n",
    "from albumentations.core.composition import Compose\n",
    "from albumentations import Compose, OneOf, Flip, HueSaturationValue, RandomBrightness, RandomContrast, Resize, Normalize"
   ]
  },
  {
   "cell_type": "code",
   "execution_count": 2,
   "metadata": {},
   "outputs": [
    {
     "name": "stdout",
     "output_type": "stream",
     "text": [
      "arch: NestedUNet\n",
      "batch_size: 16\n",
      "dataset: BrainMRI_256\n",
      "deep_supervision: True\n",
      "early_stopping: -1\n",
      "epochs: 30\n",
      "factor: 0.1\n",
      "gamma: 0.6666666666666666\n",
      "img_ext: .jpg\n",
      "input_channels: 3\n",
      "input_h: 256\n",
      "input_w: 256\n",
      "loss: BCEDiceLoss\n",
      "lr: 0.001\n",
      "mask_ext: .png\n",
      "milestones: 1,2\n",
      "min_lr: 1e-05\n",
      "momentum: 0.9\n",
      "name: BrainMRI_256_NestedUNet_wDS\n",
      "nesterov: False\n",
      "num_classes: 1\n",
      "num_workers: 4\n",
      "optimizer: SGD\n",
      "patience: 2\n",
      "scheduler: CosineAnnealingLR\n",
      "weight_decay: 0.0001\n"
     ]
    }
   ],
   "source": [
    "\n",
    "with open(\"X:\\Braillic\\Segmentation_ML\\pytorch-nested-unet\\models\\BrainMRI_256_NestedUNet_wDS\\config.yml\", 'r') as f:\n",
    "        config = yaml.load(f, Loader=yaml.FullLoader)\n",
    "        \n",
    "for key in config.keys():\n",
    "        print('%s: %s' % (key, str(config[key])))"
   ]
  },
  {
   "cell_type": "code",
   "execution_count": 3,
   "metadata": {},
   "outputs": [
    {
     "name": "stdout",
     "output_type": "stream",
     "text": [
      "['resolve_dwi_tra_p2_ADC_9_IM-0005-0020', 'resolve_dwi_tra_p2_ADC_9_IM-0005-0021', 'resolve_dwi_tra_p2_ADC_9_IM-0005-0022', 'resolve_dwi_tra_p2_ADC_9_IM-0005-0023', 'resolve_dwi_tra_p2_ADC_9_IM-0005-0024', 'resolve_dwi_tra_p2_ADC_9_IM-0005-0025', 'resolve_dwi_tra_p2_ADC_9_IM-0005-0026', 'resolve_dwi_tra_p2_ADC_9_IM-0005-0027', 'resolve_dwi_tra_p2_TRACEW_8_IM-0004-0001', 'resolve_dwi_tra_p2_TRACEW_8_IM-0004-0002', 'resolve_dwi_tra_p2_TRACEW_8_IM-0004-0003', 'resolve_dwi_tra_p2_TRACEW_8_IM-0004-0004', 'resolve_dwi_tra_p2_TRACEW_8_IM-0004-0005', 'resolve_dwi_tra_p2_TRACEW_8_IM-0004-0006', 'resolve_dwi_tra_p2_TRACEW_8_IM-0004-0007', 'resolve_dwi_tra_p2_TRACEW_8_IM-0004-0008', 'resolve_dwi_tra_p2_TRACEW_8_IM-0004-0009', 'resolve_dwi_tra_p2_TRACEW_8_IM-0004-0010', 'resolve_dwi_tra_p2_TRACEW_8_IM-0004-0011', 'resolve_dwi_tra_p2_TRACEW_8_IM-0004-0012', 'resolve_dwi_tra_p2_TRACEW_8_IM-0004-0013', 'resolve_dwi_tra_p2_TRACEW_8_IM-0004-0014', 'resolve_dwi_tra_p2_TRACEW_8_IM-0004-0015', 'resolve_dwi_tra_p2_TRACEW_8_IM-0004-0016', 'resolve_dwi_tra_p2_TRACEW_8_IM-0004-0017', 'resolve_dwi_tra_p2_TRACEW_8_IM-0004-0018', 'resolve_dwi_tra_p2_TRACEW_8_IM-0004-0019', 'resolve_dwi_tra_p2_TRACEW_8_IM-0004-0020', 'resolve_dwi_tra_p2_TRACEW_8_IM-0004-0021', 'resolve_dwi_tra_p2_TRACEW_8_IM-0004-0022', 'resolve_dwi_tra_p2_TRACEW_8_IM-0004-0023', 'resolve_dwi_tra_p2_TRACEW_8_IM-0004-0024', 'resolve_dwi_tra_p2_TRACEW_8_IM-0004-0025', 'resolve_dwi_tra_p2_TRACEW_8_IM-0004-0026', 'resolve_dwi_tra_p2_TRACEW_8_IM-0004-0027', 'resolve_dwi_tra_p2_TRACEW_8_IM-0004-0028', 'resolve_dwi_tra_p2_TRACEW_8_IM-0004-0029', 'resolve_dwi_tra_p2_TRACEW_8_IM-0004-0030', 'resolve_dwi_tra_p2_TRACEW_8_IM-0004-0031', 'resolve_dwi_tra_p2_TRACEW_8_IM-0004-0032', 'resolve_dwi_tra_p2_TRACEW_8_IM-0004-0033', 'resolve_dwi_tra_p2_TRACEW_8_IM-0004-0034', 'resolve_dwi_tra_p2_TRACEW_8_IM-0004-0035', 'resolve_dwi_tra_p2_TRACEW_8_IM-0004-0036', 'resolve_dwi_tra_p2_TRACEW_8_IM-0004-0037', 'resolve_dwi_tra_p2_TRACEW_8_IM-0004-0038', 'resolve_dwi_tra_p2_TRACEW_8_IM-0004-0039', 'resolve_dwi_tra_p2_TRACEW_8_IM-0004-0040', 'resolve_dwi_tra_p2_TRACEW_8_IM-0004-0041', 'resolve_dwi_tra_p2_TRACEW_8_IM-0004-0042', 'resolve_dwi_tra_p2_TRACEW_8_IM-0004-0043', 'resolve_dwi_tra_p2_TRACEW_8_IM-0004-0044', 'resolve_dwi_tra_p2_TRACEW_8_IM-0004-0045', 'resolve_dwi_tra_p2_TRACEW_8_IM-0004-0046', 'resolve_dwi_tra_p2_TRACEW_8_IM-0004-0047', 'resolve_dwi_tra_p2_TRACEW_8_IM-0004-0048', 'resolve_dwi_tra_p2_TRACEW_8_IM-0004-0049', 'resolve_dwi_tra_p2_TRACEW_8_IM-0004-0050', 'resolve_dwi_tra_p2_TRACEW_8_IM-0004-0051', 'resolve_dwi_tra_p2_TRACEW_8_IM-0004-0052', 'resolve_dwi_tra_p2_TRACEW_8_IM-0004-0053', 'resolve_dwi_tra_p2_TRACEW_8_IM-0004-0054', 'SUB_3D_T1_FS_SAG_+C_119_IM-0021-0001', 'SUB_3D_T1_FS_SAG_+C_119_IM-0021-0002']\n"
     ]
    }
   ],
   "source": [
    "img_ids = glob(os.path.join('inputs', config['dataset'], 'images', '*' + config['img_ext']))\n",
    "img_ids = [os.path.splitext(os.path.basename(p))[0] for p in img_ids]\n",
    "print(img_ids)"
   ]
  },
  {
   "cell_type": "code",
   "execution_count": 16,
   "metadata": {},
   "outputs": [],
   "source": [
    "# List for storing input images and masks\n",
    "input_images = []\n",
    "\n",
    "masks = []\n",
    "\n",
    "\n",
    "# Input Folder\n",
    "\n",
    "input_directory = r\"X:\\Braillic\\Segmentation_ML\\pytorch-nested-unet\\inputs\\BrainMRI_256\\images\"\n",
    "\n",
    "for img in os.listdir(input_directory):\n",
    "    input_images.append(img)\n",
    "    \n",
    "    \n",
    "\n",
    "# folder for the masks\n",
    "masks_dir = r\"X:\\Braillic\\Segmentation_ML\\pytorch-nested-unet\\outputs\\BrainMRI_256_NestedUNet_wDS\\0\"\n",
    "\n",
    "for msks in os.listdir(masks_dir):\n",
    "    masks.append(msks)"
   ]
  },
  {
   "cell_type": "code",
   "execution_count": 21,
   "metadata": {},
   "outputs": [],
   "source": [
    "import os\n",
    "from PIL import Image\n",
    "\n",
    "masks_dir = r\"X:\\Braillic\\Segmentation_ML\\pytorch-nested-unet\\outputs\\BrainMRI_256_NestedUNet_wDS\\0\"\n",
    "\n",
    "for msks in os.listdir(masks_dir):\n",
    "    if msks.endswith('.png'):\n",
    "        img_path = os.path.join(masks_dir, msks)\n",
    "        img = Image.open(img_path)\n",
    "        jpg_path = os.path.splitext(img_path)[0] + '.jpg'\n",
    "        img.save(jpg_path, \"JPEG\")"
   ]
  },
  {
   "cell_type": "code",
   "execution_count": null,
   "metadata": {},
   "outputs": [],
   "source": []
  }
 ],
 "metadata": {
  "kernelspec": {
   "display_name": "Braillic",
   "language": "python",
   "name": "python3"
  },
  "language_info": {
   "codemirror_mode": {
    "name": "ipython",
    "version": 3
   },
   "file_extension": ".py",
   "mimetype": "text/x-python",
   "name": "python",
   "nbconvert_exporter": "python",
   "pygments_lexer": "ipython3",
   "version": "3.10.12"
  },
  "orig_nbformat": 4
 },
 "nbformat": 4,
 "nbformat_minor": 2
}
