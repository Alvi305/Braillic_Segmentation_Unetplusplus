{
 "cells": [
  {
   "cell_type": "code",
   "execution_count": 2,
   "metadata": {},
   "outputs": [],
   "source": [
    "import os\n",
    "import numpy as np\n",
    "import dicom2jpg\n",
    "import pydicom\n",
    "from PIL import Image"
   ]
  },
  {
   "cell_type": "code",
   "execution_count": null,
   "metadata": {},
   "outputs": [],
   "source": [
    "dicom_dir = r\"X:\\Braillic\\Segmentation_ML\\Dicom_Files\"\n",
    "\n",
    "training_dir = r\"X:\\Braillic\\Segmentation_ML\\Training_Dataset\"\n",
    "\n",
    "dicom_files = [os.path.join(dicom_dir, file) for file in os.listdir(dicom_dir)]\n",
    "for dir in dicom_files:\n",
    "    path_parts = dir.split(os.sep)\n",
    "    output_dir_part1 = path_parts[-1]\n",
    "    for filename in os.listdir(dir):\n",
    "        dicom_file_path = os.path.join(dir, filename)\n",
    "        dataset = pydicom.dcmread(dicom_file_path)\n",
    "\n",
    "        # Normalize pixel data to have values between 0 and 255\n",
    "        image_2d = dataset.pixel_array.astype(float)\n",
    "        rescaled_image = (np.maximum(image_2d,0) / image_2d.max()) * 255.0\n",
    "\n",
    "        # Convert to uint8 and create a PIL image\n",
    "        final_image = Image.fromarray(rescaled_image.astype(np.uint8))\n",
    "\n",
    "        # Create output filename\n",
    "        output_file = output_dir_part1 + \"_\" +filename\n",
    "        output_filename = output_filename.replace('.dcm', '.jpg')\n",
    "        output_filepath = os.path.join(training_dir, output_filename)\n",
    "\n",
    "        # Save the image\n",
    "        final_image.save(output_filepath)\n",
    "        "
   ]
  },
  {
   "cell_type": "code",
   "execution_count": null,
   "metadata": {},
   "outputs": [],
   "source": [
    "for dir in dicom_files:\n",
    "    path_parts = dir.split(os.sep)\n",
    "    output_dir_part1 = path_parts[-1]\n",
    "    for filename in os.listdir(dir):\n",
    "        dicom_file_path = os.path.join(dir, filename)\n",
    "        dataset = pydicom.dcmread(dicom_file_path)\n",
    "\n",
    "        # Normalize pixel data to have values between 0 and 255\n",
    "        image_2d = dataset.pixel_array.astype(float)\n",
    "        rescaled_image = (np.maximum(image_2d,0) / image_2d.max()) * 255.0\n",
    "\n",
    "        # Convert to uint8 and create a PIL image\n",
    "        final_image = Image.fromarray(rescaled_image.astype(np.uint8))\n",
    "\n",
    "        # Create output filename\n",
    "        output_file = output_dir_part1 + \"_\" +filename\n",
    "        output_filename = output_filename.replace('.dcm', '.jpg')\n",
    "        output_filepath = os.path.join(training_dir, output_filename)\n",
    "\n",
    "        # Save the image\n",
    "        final_image.save(output_filepath)"
   ]
  }
 ],
 "metadata": {
  "kernelspec": {
   "display_name": "Braillic",
   "language": "python",
   "name": "python3"
  },
  "language_info": {
   "codemirror_mode": {
    "name": "ipython",
    "version": 3
   },
   "file_extension": ".py",
   "mimetype": "text/x-python",
   "name": "python",
   "nbconvert_exporter": "python",
   "pygments_lexer": "ipython3",
   "version": "3.10.12"
  },
  "orig_nbformat": 4
 },
 "nbformat": 4,
 "nbformat_minor": 2
}
